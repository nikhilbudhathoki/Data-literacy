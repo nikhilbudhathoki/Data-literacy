{
 "cells": [
  {
   "cell_type": "markdown",
   "id": "1da2aa69-9c60-47ca-b39e-748747c3b9e9",
   "metadata": {},
   "source": [
    "What is data literacy"
   ]
  },
  {
   "cell_type": "markdown",
   "id": "b9380bb5-6ba1-4855-89f8-b0e34f1c5fe8",
   "metadata": {},
   "source": [
    "It is ability to read , analyze data and communicate with insights"
   ]
  },
  {
   "cell_type": "markdown",
   "id": "6ab11095-f1e0-4adf-8899-95f778b016e3",
   "metadata": {},
   "source": []
  },
  {
   "cell_type": "markdown",
   "id": "dd48b543-5c2f-482b-be00-20ad7f886478",
   "metadata": {},
   "source": [
    "Reading data is collecting data, manazing data"
   ]
  },
  {
   "cell_type": "markdown",
   "id": "eba9ebe5-e69d-4689-9b38-5ce91f537952",
   "metadata": {},
   "source": [
    "Analyzing data is converting data into insights"
   ]
  },
  {
   "cell_type": "markdown",
   "id": "0cf5b602-8a90-48b4-8aec-b93582cfa790",
   "metadata": {},
   "source": [
    "communicate with insights is demonstrate insights and present story telling"
   ]
  },
  {
   "cell_type": "code",
   "execution_count": null,
   "id": "5cebb760-6b9a-4840-819a-9987cfb7e391",
   "metadata": {},
   "outputs": [],
   "source": []
  },
  {
   "cell_type": "markdown",
   "id": "73b9d367-577e-4c85-a525-8fe419cea09f",
   "metadata": {},
   "source": [
    "FROM DATA INTO SIGHTS"
   ]
  },
  {
   "cell_type": "markdown",
   "id": "bb6c93b5-291c-4dea-aae3-93156b88321a",
   "metadata": {},
   "source": [
    "DIKW PYRAMID FROM BOTTOM, at bottom D stands for data, I for information , K for knoledge and W for wisdom"
   ]
  },
  {
   "cell_type": "markdown",
   "id": "c87df16c-7a5d-4b91-912a-ad3d852dfda6",
   "metadata": {},
   "source": [
    "data is collecton of raw analysis measurement or value , Information is data kept at context and give something valueable"
   ]
  },
  {
   "cell_type": "markdown",
   "id": "ad0edb65-1ab1-4fbe-bfa2-88b71914af4a",
   "metadata": {},
   "source": [
    "Knowledge is combining information and make to find connection and make a pattern out of it"
   ]
  },
  {
   "cell_type": "markdown",
   "id": "f9e1675e-f9d1-42ba-8b11-43f56cd99273",
   "metadata": {},
   "source": [
    "Wisdom is applied knowledge where we find the logical action according to knowledge"
   ]
  },
  {
   "cell_type": "markdown",
   "id": "e4aedbd5-86e2-4479-a0c9-4602a2cc0c12",
   "metadata": {},
   "source": [
    "Insights comes between knowledge and wisdom where we find various valueable knowledge that can make out action better and make our goal acheived accurately"
   ]
  },
  {
   "cell_type": "code",
   "execution_count": null,
   "id": "0ba36d86-c694-4a96-b91d-a2cfabbaf0ec",
   "metadata": {},
   "outputs": [],
   "source": []
  },
  {
   "cell_type": "code",
   "execution_count": null,
   "id": "4cdb0983-4f72-4e0c-a9ac-002b18ec329d",
   "metadata": {},
   "outputs": [],
   "source": []
  },
  {
   "cell_type": "markdown",
   "id": "fba4f9d5-1fc0-4103-91d5-e98affafd2ab",
   "metadata": {},
   "source": [
    "DATA DRIVEN DECISION"
   ]
  },
  {
   "cell_type": "markdown",
   "id": "e038e8a4-477d-4c24-81a1-e859f48850c9",
   "metadata": {},
   "source": [
    "It is for all and large organization , variaty of people makes it better"
   ]
  },
  {
   "cell_type": "markdown",
   "id": "4d626c70-8d57-489d-a639-8c49f53e25e8",
   "metadata": {},
   "source": [
    "Data driven process\n",
    "1. Problem Statement:Defining problems , root problem to be addreseed eg:Diagnose the cause of event\n",
    "3. Data collection:\n",
    "4. Data analysis\n",
    "5. Communication\n",
    "6. Action and Reflection"
   ]
  },
  {
   "cell_type": "markdown",
   "id": "adc43286-5ea0-4ef5-8932-c545d688ca68",
   "metadata": {},
   "source": [
    "How to define problems\n",
    "1. what is current situation\n",
    "2. What we need  to know\n",
    "3. Where do you want to be\n",
    "\n",
    "Problems should be clearly defined , actionable and realistic\n",
    "eg: Improving customer satisfacction\n",
    "1. Customer satisfaction is our target\n",
    "2. Now we have negetive customer satisfaction\n",
    "3. We have to know the reasons behind it\n",
    "\n",
    "eg: Monitor student performance: \n",
    "1. Last years scores are decline\n",
    "2. We have decreasing scores as problem\n",
    "3. We want to know reasons behind it"
   ]
  },
  {
   "cell_type": "code",
   "execution_count": null,
   "id": "e8499ddb-daa4-497a-a9ea-a49dd46b1c58",
   "metadata": {},
   "outputs": [],
   "source": []
  },
  {
   "cell_type": "code",
   "execution_count": null,
   "id": "144f8338-8c3d-40c7-9c7f-548397be10ba",
   "metadata": {},
   "outputs": [],
   "source": []
  },
  {
   "cell_type": "markdown",
   "id": "3c1765e5-0c7a-4d4f-882c-4bc43686e234",
   "metadata": {},
   "source": [
    "DATA IS ALL AROUND US"
   ]
  },
  {
   "cell_type": "markdown",
   "id": "857c20b7-4cdf-4b7d-9257-091f68670dd4",
   "metadata": {},
   "source": [
    "1. We can find data in picture , social media , network data.\n",
    "2. Data is given by government\n",
    "3. Data is in API\n",
    "4. Internal data that is private by organization like customer data.\n",
    "5. survey data\n"
   ]
  },
  {
   "cell_type": "code",
   "execution_count": null,
   "id": "838a544f-ede3-46b9-802b-0f2d3bbc3864",
   "metadata": {},
   "outputs": [],
   "source": []
  },
  {
   "cell_type": "code",
   "execution_count": null,
   "id": "fec72ab0-0266-4f9a-8b05-fb1e395ce891",
   "metadata": {},
   "outputs": [],
   "source": []
  },
  {
   "cell_type": "markdown",
   "id": "2c6f7e3e-434b-416f-b37a-14ae4fa02994",
   "metadata": {},
   "source": [
    "TWO TYPES OF DATA:STRUCTURED AND UNSTRUCTURED"
   ]
  },
  {
   "cell_type": "markdown",
   "id": "f5818448-791c-48db-8bb7-550f7fe8f390",
   "metadata": {},
   "source": [
    "STRUCTURED DATA IS KIND OF DATA WHICH IS EASY TO SEARCH,ORGANIZE ,TABULAR FORM, STORED IN RELATIONAL DB LIKE EXCEL\n",
    "UNSTRUCTURED DATA IS HARD TO SEARCH ,ORGANIZE,, NOT IN TABULAR FORM , VERY CHAOTIC LIKE EMAIL DATA "
   ]
  },
  {
   "cell_type": "code",
   "execution_count": null,
   "id": "9d7e26d3-d565-4f8a-bc3e-5517121f7735",
   "metadata": {},
   "outputs": [],
   "source": []
  },
  {
   "cell_type": "markdown",
   "id": "656a7b66-6968-4901-ae93-3d85f006f042",
   "metadata": {},
   "source": [
    "ANOTHER IS QUALITITIVE AND QUANTATIVE DATA:\n",
    "QUALITITIVE DATA IS MORE OF CATEGORICAL DATA OR TEXT DATA , CANT DO MATHEMATICAL CALCULATION LIKE COLOR OF EYES\n",
    "QUANTITIVE DATA IS MORE MATHEMATICAL DATA WITH NUMBERS LIKE DISTANCE FROM HOUSE TO COLLEGE"
   ]
  },
  {
   "cell_type": "code",
   "execution_count": null,
   "id": "56bdd08b-6a09-41fa-8507-3e852f09542f",
   "metadata": {},
   "outputs": [],
   "source": []
  },
  {
   "cell_type": "markdown",
   "id": "193e1275-1827-4689-bb36-f9f94d91e707",
   "metadata": {},
   "source": [
    "DATABASE: STORE DATA IN A STRUCTURE WAY OR UNSTRUCTURE WAY. DOCUMENT IS UNSTRUCTURE WAY AND RELATIONAL IS STRUCTURED\n",
    "DATA WAREHOUSE CONTAIN PROCESSED AND STRUCTURED DATA AND DATA LAKE CONTAIN RAW AND UNSTRUCTURED DATA"
   ]
  },
  {
   "cell_type": "code",
   "execution_count": null,
   "id": "bda9d993-b116-473c-8a5f-ec07dd89d2b5",
   "metadata": {},
   "outputs": [],
   "source": []
  },
  {
   "cell_type": "markdown",
   "id": "d132257d-481a-4ebe-beaf-b296eb45397f",
   "metadata": {},
   "source": [
    "DATA STORED IN CLOUD:REMOTE SERVER AND ACCESS WITH INTERNET "
   ]
  },
  {
   "cell_type": "code",
   "execution_count": null,
   "id": "e04973e1-8977-44e6-aa92-832f8f457965",
   "metadata": {},
   "outputs": [],
   "source": []
  },
  {
   "cell_type": "markdown",
   "id": "63342a03-f7b3-4d2e-a0f9-e87b42ad2dc1",
   "metadata": {},
   "source": [
    "PIPELINE:MOVE DATA FROM ONE TO ANOTHER WITH ETL PROCESS:EXTRACT ,TRANSFROM,LOAD. ENSURE ACURATE AND UPTO DATA"
   ]
  },
  {
   "cell_type": "code",
   "execution_count": null,
   "id": "4c120612-bab9-4c5a-8e1f-25518d59d64e",
   "metadata": {},
   "outputs": [],
   "source": []
  },
  {
   "cell_type": "markdown",
   "id": "ff05c565-2a68-4ee2-a5f0-1825ca468f15",
   "metadata": {},
   "source": [
    "QUERY: ACCESS AND QUERYING DATA\n",
    "SQL AND FURTHER WITH PYTHON AND R\n",
    "\n",
    "\n",
    "\n",
    "DASHBOARDS IS FOR NON TECHNICAL WAY TO SHARE VISUAL DATA, KEY METRICS INDICATOR IN A TEAM. LIKE GRAPH OF STOCKS"
   ]
  },
  {
   "cell_type": "code",
   "execution_count": null,
   "id": "042a8b70-4156-4f83-b3f2-2d84c90bb2f4",
   "metadata": {},
   "outputs": [],
   "source": []
  },
  {
   "cell_type": "code",
   "execution_count": null,
   "id": "9c91a243-1510-4cc2-b07c-05403b4b1948",
   "metadata": {},
   "outputs": [],
   "source": []
  },
  {
   "cell_type": "markdown",
   "id": "542b1068-7767-486a-b555-5d9c8059fcb1",
   "metadata": {},
   "source": [
    "DIRTY DATA: INCONSISTENT, INCORRECT DATA,INCOMPLETE\n",
    "CAUSED BY HUMAN ERROR,GIGO\n",
    "LEADS TO BAD RESULTS\n",
    "MAYBE TYPING ERRORS OR FORMULA\n",
    "\n",
    "DATA EROR: TYPING ERROR OR WRONG FORMAT . IF NOT KNOWN DROP IT\n",
    "MISSING DATA:PROBLEMATIC IS MANY DATA IS MISSING, IF LESS ARE MISSING CAN DROP\n",
    "DATA BIAS:SOCIETIAL BIAS IF MOST PEOPLE ARE BIASED INTO SOMETHING\n",
    "LEADS TO UNREPRESENTATIVE.\n",
    "COUNTER: IS TO SOLVE IN COLLECTION\n",
    "\n",
    "DATA CLEANING:\n"
   ]
  },
  {
   "cell_type": "code",
   "execution_count": null,
   "id": "3a13a294-901b-4419-927b-0b97481aa406",
   "metadata": {},
   "outputs": [],
   "source": []
  }
 ],
 "metadata": {
  "kernelspec": {
   "display_name": "Python 3 (ipykernel)",
   "language": "python",
   "name": "python3"
  },
  "language_info": {
   "codemirror_mode": {
    "name": "ipython",
    "version": 3
   },
   "file_extension": ".py",
   "mimetype": "text/x-python",
   "name": "python",
   "nbconvert_exporter": "python",
   "pygments_lexer": "ipython3",
   "version": "3.8.19"
  }
 },
 "nbformat": 4,
 "nbformat_minor": 5
}
