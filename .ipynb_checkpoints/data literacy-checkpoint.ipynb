{
 "cells": [
  {
   "cell_type": "markdown",
   "id": "1da2aa69-9c60-47ca-b39e-748747c3b9e9",
   "metadata": {},
   "source": [
    "What is data literacy"
   ]
  },
  {
   "cell_type": "markdown",
   "id": "b9380bb5-6ba1-4855-89f8-b0e34f1c5fe8",
   "metadata": {},
   "source": [
    "It is ability to read , analyze data and communicate with insights"
   ]
  },
  {
   "cell_type": "markdown",
   "id": "6ab11095-f1e0-4adf-8899-95f778b016e3",
   "metadata": {},
   "source": []
  },
  {
   "cell_type": "markdown",
   "id": "dd48b543-5c2f-482b-be00-20ad7f886478",
   "metadata": {},
   "source": [
    "Reading data is collecting data, manazing data"
   ]
  },
  {
   "cell_type": "markdown",
   "id": "eba9ebe5-e69d-4689-9b38-5ce91f537952",
   "metadata": {},
   "source": [
    "Analyzing data is converting data into insights"
   ]
  },
  {
   "cell_type": "markdown",
   "id": "0cf5b602-8a90-48b4-8aec-b93582cfa790",
   "metadata": {},
   "source": [
    "communicate with insights is demonstrate insights and present story telling"
   ]
  },
  {
   "cell_type": "code",
   "execution_count": null,
   "id": "5cebb760-6b9a-4840-819a-9987cfb7e391",
   "metadata": {},
   "outputs": [],
   "source": []
  },
  {
   "cell_type": "markdown",
   "id": "73b9d367-577e-4c85-a525-8fe419cea09f",
   "metadata": {},
   "source": [
    "FROM DATA INTO SIGHTS"
   ]
  },
  {
   "cell_type": "markdown",
   "id": "bb6c93b5-291c-4dea-aae3-93156b88321a",
   "metadata": {},
   "source": [
    "DIKW PYRAMID FROM BOTTOM, at bottom D stands for data, I for information , K for knoledge and W for wisdom"
   ]
  },
  {
   "cell_type": "markdown",
   "id": "c87df16c-7a5d-4b91-912a-ad3d852dfda6",
   "metadata": {},
   "source": [
    "data is collecton of raw analysis measurement or value , Information is data kept at context and give something valueable"
   ]
  },
  {
   "cell_type": "markdown",
   "id": "ad0edb65-1ab1-4fbe-bfa2-88b71914af4a",
   "metadata": {},
   "source": [
    "Knowledge is combining information and make to find connection and make a pattern out of it"
   ]
  },
  {
   "cell_type": "markdown",
   "id": "f9e1675e-f9d1-42ba-8b11-43f56cd99273",
   "metadata": {},
   "source": [
    "Wisdom is applied knowledge where we find the logical action according to knowledge"
   ]
  },
  {
   "cell_type": "markdown",
   "id": "e4aedbd5-86e2-4479-a0c9-4602a2cc0c12",
   "metadata": {},
   "source": [
    "Insights comes between knowledge and wisdom where we find various valueable knowledge that can make out action better and make our goal acheived accurately"
   ]
  },
  {
   "cell_type": "code",
   "execution_count": null,
   "id": "0ba36d86-c694-4a96-b91d-a2cfabbaf0ec",
   "metadata": {},
   "outputs": [],
   "source": []
  },
  {
   "cell_type": "code",
   "execution_count": null,
   "id": "4cdb0983-4f72-4e0c-a9ac-002b18ec329d",
   "metadata": {},
   "outputs": [],
   "source": []
  },
  {
   "cell_type": "markdown",
   "id": "fba4f9d5-1fc0-4103-91d5-e98affafd2ab",
   "metadata": {},
   "source": [
    "DATA DRIVEN DECISION"
   ]
  },
  {
   "cell_type": "markdown",
   "id": "e038e8a4-477d-4c24-81a1-e859f48850c9",
   "metadata": {},
   "source": [
    "It is for all and large organization , variaty of people makes it better"
   ]
  },
  {
   "cell_type": "markdown",
   "id": "4d626c70-8d57-489d-a639-8c49f53e25e8",
   "metadata": {},
   "source": [
    "Data driven process\n",
    "1. Problem Statement:Defining problems , root problem to be addreseed eg:Diagnose the cause of event\n",
    "3. Data collection:\n",
    "4. Data analysis\n",
    "5. Communication\n",
    "6. Action and Reflection"
   ]
  },
  {
   "cell_type": "markdown",
   "id": "adc43286-5ea0-4ef5-8932-c545d688ca68",
   "metadata": {},
   "source": [
    "How to define problems\n",
    "1. what is current situation\n",
    "2. What we need  to know\n",
    "3. Where do you want to be\n",
    "\n",
    "Problems should be clearly defined , actionable and realistic\n",
    "eg: Improving customer satisfacction\n",
    "1. Customer satisfaction is our target\n",
    "2. Now we have negetive customer satisfaction\n",
    "3. We have to know the reasons behind it\n",
    "\n",
    "eg: Monitor student performance: \n",
    "1. Last years scores are decline\n",
    "2. We have decreasing scores as problem\n",
    "3. We want to know reasons behind it"
   ]
  },
  {
   "cell_type": "code",
   "execution_count": null,
   "id": "e8499ddb-daa4-497a-a9ea-a49dd46b1c58",
   "metadata": {},
   "outputs": [],
   "source": []
  },
  {
   "cell_type": "code",
   "execution_count": null,
   "id": "144f8338-8c3d-40c7-9c7f-548397be10ba",
   "metadata": {},
   "outputs": [],
   "source": []
  },
  {
   "cell_type": "markdown",
   "id": "3c1765e5-0c7a-4d4f-882c-4bc43686e234",
   "metadata": {},
   "source": [
    "DATA IS ALL AROUND US"
   ]
  },
  {
   "cell_type": "markdown",
   "id": "857c20b7-4cdf-4b7d-9257-091f68670dd4",
   "metadata": {},
   "source": [
    "1. We can find data in picture , social media , network data.\n",
    "2. Data is given by government\n",
    "3. Data is in API\n",
    "4. Internal data that is private by organization like customer data.\n",
    "5. survey data\n"
   ]
  },
  {
   "cell_type": "code",
   "execution_count": null,
   "id": "838a544f-ede3-46b9-802b-0f2d3bbc3864",
   "metadata": {},
   "outputs": [],
   "source": []
  }
 ],
 "metadata": {
  "kernelspec": {
   "display_name": "Python 3 (ipykernel)",
   "language": "python",
   "name": "python3"
  },
  "language_info": {
   "codemirror_mode": {
    "name": "ipython",
    "version": 3
   },
   "file_extension": ".py",
   "mimetype": "text/x-python",
   "name": "python",
   "nbconvert_exporter": "python",
   "pygments_lexer": "ipython3",
   "version": "3.8.19"
  }
 },
 "nbformat": 4,
 "nbformat_minor": 5
}
